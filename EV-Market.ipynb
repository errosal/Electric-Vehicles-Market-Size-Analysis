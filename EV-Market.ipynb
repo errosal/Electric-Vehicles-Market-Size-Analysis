{
 "cells": [
  {
   "cell_type": "code",
   "execution_count": 1,
   "metadata": {},
   "outputs": [
    {
     "name": "stdout",
     "output_type": "stream",
     "text": [
      "   VIN (1-10)     County       City State  Postal Code  Model Year   Make  \\\n",
      "0  5YJYGDEE1L       King    Seattle    WA      98122.0        2020  TESLA   \n",
      "1  7SAYGDEE9P  Snohomish    Bothell    WA      98021.0        2023  TESLA   \n",
      "2  5YJSA1E4XK       King    Seattle    WA      98109.0        2019  TESLA   \n",
      "3  5YJSA1E27G       King   Issaquah    WA      98027.0        2016  TESLA   \n",
      "4  5YJYGDEE5M     Kitsap  Suquamish    WA      98392.0        2021  TESLA   \n",
      "\n",
      "     Model           Electric Vehicle Type  \\\n",
      "0  MODEL Y  Battery Electric Vehicle (BEV)   \n",
      "1  MODEL Y  Battery Electric Vehicle (BEV)   \n",
      "2  MODEL S  Battery Electric Vehicle (BEV)   \n",
      "3  MODEL S  Battery Electric Vehicle (BEV)   \n",
      "4  MODEL Y  Battery Electric Vehicle (BEV)   \n",
      "\n",
      "   Clean Alternative Fuel Vehicle (CAFV) Eligibility  Electric Range  \\\n",
      "0            Clean Alternative Fuel Vehicle Eligible             291   \n",
      "1  Eligibility unknown as battery range has not b...               0   \n",
      "2            Clean Alternative Fuel Vehicle Eligible             270   \n",
      "3            Clean Alternative Fuel Vehicle Eligible             210   \n",
      "4  Eligibility unknown as battery range has not b...               0   \n",
      "\n",
      "   Base MSRP  Legislative District  DOL Vehicle ID  \\\n",
      "0          0                  37.0       125701579   \n",
      "1          0                   1.0       244285107   \n",
      "2          0                  36.0       156773144   \n",
      "3          0                   5.0       165103011   \n",
      "4          0                  23.0       205138552   \n",
      "\n",
      "                Vehicle Location  \\\n",
      "0   POINT (-122.30839 47.610365)   \n",
      "1  POINT (-122.179458 47.802589)   \n",
      "2   POINT (-122.34848 47.632405)   \n",
      "3   POINT (-122.03646 47.534065)   \n",
      "4   POINT (-122.55717 47.733415)   \n",
      "\n",
      "                                Electric Utility  2020 Census Tract  \n",
      "0   CITY OF SEATTLE - (WA)|CITY OF TACOMA - (WA)       5.303301e+10  \n",
      "1                         PUGET SOUND ENERGY INC       5.306105e+10  \n",
      "2   CITY OF SEATTLE - (WA)|CITY OF TACOMA - (WA)       5.303301e+10  \n",
      "3  PUGET SOUND ENERGY INC||CITY OF TACOMA - (WA)       5.303303e+10  \n",
      "4                         PUGET SOUND ENERGY INC       5.303594e+10  \n"
     ]
    }
   ],
   "source": [
    "import pandas as pd\n",
    "\n",
    "ev_data = pd.read_csv('Electric_Vehicle_Population_Data.csv')\n",
    "\n",
    "print(ev_data.head())"
   ]
  },
  {
   "cell_type": "code",
   "execution_count": 2,
   "metadata": {},
   "outputs": [
    {
     "name": "stdout",
     "output_type": "stream",
     "text": [
      "<class 'pandas.core.frame.DataFrame'>\n",
      "RangeIndex: 177866 entries, 0 to 177865\n",
      "Data columns (total 17 columns):\n",
      " #   Column                                             Non-Null Count   Dtype  \n",
      "---  ------                                             --------------   -----  \n",
      " 0   VIN (1-10)                                         177866 non-null  object \n",
      " 1   County                                             177861 non-null  object \n",
      " 2   City                                               177861 non-null  object \n",
      " 3   State                                              177866 non-null  object \n",
      " 4   Postal Code                                        177861 non-null  float64\n",
      " 5   Model Year                                         177866 non-null  int64  \n",
      " 6   Make                                               177866 non-null  object \n",
      " 7   Model                                              177866 non-null  object \n",
      " 8   Electric Vehicle Type                              177866 non-null  object \n",
      " 9   Clean Alternative Fuel Vehicle (CAFV) Eligibility  177866 non-null  object \n",
      " 10  Electric Range                                     177866 non-null  int64  \n",
      " 11  Base MSRP                                          177866 non-null  int64  \n",
      " 12  Legislative District                               177477 non-null  float64\n",
      " 13  DOL Vehicle ID                                     177866 non-null  int64  \n",
      " 14  Vehicle Location                                   177857 non-null  object \n",
      " 15  Electric Utility                                   177861 non-null  object \n",
      " 16  2020 Census Tract                                  177861 non-null  float64\n",
      "dtypes: float64(3), int64(4), object(10)\n",
      "memory usage: 23.1+ MB\n"
     ]
    }
   ],
   "source": [
    "ev_data.info()"
   ]
  }
 ],
 "metadata": {
  "kernelspec": {
   "display_name": "Python 3",
   "language": "python",
   "name": "python3"
  },
  "language_info": {
   "codemirror_mode": {
    "name": "ipython",
    "version": 3
   },
   "file_extension": ".py",
   "mimetype": "text/x-python",
   "name": "python",
   "nbconvert_exporter": "python",
   "pygments_lexer": "ipython3",
   "version": "3.11.2"
  }
 },
 "nbformat": 4,
 "nbformat_minor": 2
}
